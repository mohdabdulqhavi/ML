{
 "cells": [
  {
   "attachments": {},
   "cell_type": "markdown",
   "metadata": {},
   "source": [
    "##### Assignment : 1"
   ]
  },
  {
   "attachments": {},
   "cell_type": "markdown",
   "metadata": {},
   "source": [
    "1. What does one mean by the term \"machine learning\"?\n",
    "* Machine learning is a branch of Artificial Intelligence that allows us to build self-learning software applications to predict the outcomes more accurately without being explicitly programmed.\n",
    "\n",
    "--"
   ]
  },
  {
   "attachments": {},
   "cell_type": "markdown",
   "metadata": {},
   "source": [
    "2. Can you think of 4 distinct types of issues where it shines?\n",
    "* Machine Learning can be used in the following ways:\n",
    "1. Recommender systems - used by the e-commerce industry based on the customer's purchasing behavior\n",
    "2. Speech recognition - develop automated speech recognition systems like Siri, Alexa and Google Assistant\n",
    "3. Image recognition - autaomatic image recognition systems like Connection name tagging used by LinkedIn\n",
    "4. Predictive maintenance - automated predictive maintenance systems to prevent shut downs and business loss\n",
    "\n",
    "--"
   ]
  },
  {
   "attachments": {},
   "cell_type": "markdown",
   "metadata": {},
   "source": [
    "3. What is a labeled training set, and how does it work?\n",
    "* The dataset is split into training, validation, and testing set. The training set is used to train the model to predict the outcome of the test set.\n",
    "\n",
    "--"
   ]
  },
  {
   "attachments": {},
   "cell_type": "markdown",
   "metadata": {},
   "source": [
    "4. What are the two most important tasks that are supervised?\n",
    "*  Regression and Classification are the two most important tasks of Supervised Machine Learning.\n",
    "\n",
    "--"
   ]
  },
  {
   "attachments": {},
   "cell_type": "markdown",
   "metadata": {},
   "source": [
    "5. Can you think of four examples of unsupervised tasks ?\n",
    "* Clustering, Anomaly Detection, Dimensionality Reduction, Visualization and Association Rule Detection\n",
    "\n",
    "--"
   ]
  },
  {
   "attachments": {},
   "cell_type": "markdown",
   "metadata": {},
   "source": [
    "6. State the machine learning model that would be best to make a robot walk through various unfamiliar terrains ?\n",
    "* Reinforced Learning models would be best to make a robot walk through various unfamiliar terrains.\n",
    "\n",
    "--"
   ]
  },
  {
   "attachments": {},
   "cell_type": "markdown",
   "metadata": {},
   "source": [
    "7. Which algorithm will you use to divide your customers into different groups?\n",
    "* Customer Segmentation can be done with either Supervised Machine Learning when labels are provided or with Unsupervised Machine Learning when labels are not provided.\n",
    "\n",
    "--"
   ]
  },
  {
   "attachments": {},
   "cell_type": "markdown",
   "metadata": {},
   "source": [
    "8. Will you consider the problem of spam detection to be a supervised or unsupervised learning problem?\n",
    "* Spam detection is a supervised machine learning problem which requires classification whether or not the input data contains spam or not.\n",
    "\n",
    "--"
   ]
  },
  {
   "attachments": {},
   "cell_type": "markdown",
   "metadata": {},
   "source": [
    "9. What is the concept of an online learning system?\n",
    "* Machine Learning system in which the data is available in a sequential manner and used for prediction at each step.\n",
    "\n",
    "--"
   ]
  },
  {
   "attachments": {},
   "cell_type": "markdown",
   "metadata": {},
   "source": [
    "10. What is out-of-core learning, and how does it differ from core learning?\n",
    "* Out-of-core learning is a way where training a model on data that exceeds the core memory limit (Eg: RAM) of the hardware.\n",
    "\n",
    "--"
   ]
  },
  {
   "attachments": {},
   "cell_type": "markdown",
   "metadata": {},
   "source": [
    "11. What kind of learning algorithm makes predictions using a similarity measure ?\n",
    "* Instance based learning algorithms makes predictions using a similarity measure.\n",
    "\n",
    "--"
   ]
  },
  {
   "attachments": {},
   "cell_type": "markdown",
   "metadata": {},
   "source": [
    "12. What's the difference between a model parameter and a hyperparameter in a learning algorithm?\n",
    "* Hyperparameter is a learning algorithm parameter whereas model parameter determines how the model will predict the new outcome.\n",
    "\n",
    "--"
   ]
  },
  {
   "attachments": {},
   "cell_type": "markdown",
   "metadata": {},
   "source": [
    "13. What are the criteria that model-based learning algorithms look for? What is the most popular method they use to achieve success? What method do they use to make predictions?\n",
    "* Model-based learning algorithms look for optimal parameters to generalize the model\n",
    "\n",
    "--"
   ]
  },
  {
   "attachments": {},
   "cell_type": "markdown",
   "metadata": {},
   "source": [
    "13. What are the criteria that model-based learning algorithms look for? What is the most popular method they use to achieve success? What method do they use to make predictions?\n",
    "* Model-based learning algorithms look for patterns and relationships in data to build a model that can make predictions or decisions. The most popular method they use to achieve success is through optimization, which involves adjusting the parameters of the model to minimize error or maximize accuracy.\n",
    "* To make predictions, model-based learning algorithms often use a method called supervised learning, in which the algorithm is trained on labeled data with known outcomes, and then uses this training data to make predictions on new, unseen data. Other methods that may be used to make predictions include unsupervised learning, in which the algorithm is not given any labeled data and must discover patterns on its own, and reinforcement learning, in which the algorithm learns through trial and error in a simulated environment.\n",
    "\n",
    "--\n",
    "\n",
    "14. Can you name four of the most important Machine Learning challenges?\n",
    "* \n",
    "1. Overfitting: This occurs when a model is too complex and fits the training data too well, resulting in poor generalization to new, unseen data.\n",
    "2. Underfitting: This occurs when a model is too simple and is unable to capture the underlying patterns and relationships in the data, leading to poor performance on the training data as well as new, unseen data.\n",
    "3. Lack of sufficient data: Machine learning algorithms require a large amount of data in order to learn and make accurate predictions. If the data is insufficient or of poor quality, the model may not be able to learn effectively.\n",
    "4. Bias: Machine learning algorithms can sometimes perpetuate or even amplify biases present in the data, leading to unfair or discriminatory outcomes. This can be a particular concern in applications such as hiring or lending, where decisions made by the algorithm can have significant consequences for individuals.\n",
    "\n",
    "--\n",
    "\n",
    "\n",
    "15. What happens if the model performs well on the training data but fails to generalize the results to new situations? Can you think of three different options?\n",
    "* \n",
    "1. The model may be suffering from overfitting, meaning it has learned the specific patterns and relationships present in the training data too well and is unable to generalize to new situations.\n",
    "2. The training data may not be representative of the real world and may not accurately reflect the patterns and relationships present in new situations.\n",
    "3. The model may be too complex or may be using inappropriate algorithms for the given problem, leading to poor generalization to new situations.\n",
    "\n",
    "--\n",
    "\n",
    "16. What exactly is a test set, and why would you need one?\n",
    "* A test set is a subset of data that is held out from the training data and used to evaluate the performance of a machine learning model. It allows the model to be tested on unseen data in order to determine how well it generalizes to new situations.\n",
    "* The test set is important because it provides an objective measure of the model's performance and can help identify overfitting or underfitting. It is also useful for comparing different models and selecting the one that performs the best on the test set.\n",
    "\n",
    "--\n",
    "\n",
    "17. What is a validation set's purpose?\n",
    "* A validation set is a subset of data that is used to fine-tune the hyperparameters of a machine learning model. Hyperparameters are the parameters of the model that are set before training and are not learned from the data. Examples of hyperparameters include the learning rate, regularization strength, and the number of hidden units in a neural network.\n",
    "* The validation set is used to evaluate the model's performance on different combinations of hyperparameters and select the best combination. It allows the model to be optimized for the given problem and can help improve its generalization to new, unseen data.\n",
    "* After the hyperparameters have been selected, the model is then tested on the test set to get a final evaluation of its performance.\n",
    "\n",
    "--\n",
    "\n",
    "18. What precisely is the train-dev kit, when will you need it, how do you put it to use?\n",
    "* A train-dev kit is a set of data that is used to evaluate the model's performance during the training process. It is also known as a development set or a holdout set.\n",
    "* The train-dev kit is useful for monitoring the model's progress and identifying overfitting or underfitting. It is typically used in conjunction with a validation set to fine-tune the hyperparameters of the model.\n",
    "* To use a train-dev kit, it is first necessary to split the data into training, validation, and test sets. The model is then trained on the training set and evaluated on the train-dev kit at regular intervals during training. This allows the model's performance to be tracked and any issues to be identified and addressed before the model is tested on the test set.\n",
    "\n",
    "--\n",
    "\n",
    "19. What could go wrong if you use the test set to tune hyperparameters?\n",
    "* If the test set is used to tune hyperparameters, it can lead to overfitting, as the model will be able to learn the specific patterns and relationships present in the test set too well. This can result in poor generalization to new, unseen data and may lead to an overly optimistic evaluation of the model's performance.\n",
    "* It is generally recommended to use a separate validation set to tune hyperparameters, rather than the test set. This allows the model to be optimized without compromising the integrity of the test set."
   ]
  },
  {
   "cell_type": "markdown",
   "metadata": {},
   "source": []
  }
 ],
 "metadata": {
  "kernelspec": {
   "display_name": "Python 3",
   "language": "python",
   "name": "python3"
  },
  "language_info": {
   "name": "python",
   "version": "3.10.6 (tags/v3.10.6:9c7b4bd, Aug  1 2022, 21:53:49) [MSC v.1932 64 bit (AMD64)]"
  },
  "orig_nbformat": 4,
  "vscode": {
   "interpreter": {
    "hash": "a42ccb73e7d9bfdf27e036f1d2b8b681e55fc0743cc5586bc2474d4a60f4b886"
   }
  }
 },
 "nbformat": 4,
 "nbformat_minor": 2
}
