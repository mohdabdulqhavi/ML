{
 "cells": [
  {
   "attachments": {},
   "cell_type": "markdown",
   "metadata": {},
   "source": [
    "##### Assignment: 4"
   ]
  },
  {
   "attachments": {},
   "cell_type": "markdown",
   "metadata": {},
   "source": [
    "1. What are the key tasks involved in getting ready to work with machine learning modeling?\n",
    "* Define the problem, select the data, pre-process the data, split data into train/test sets, choose an algorithm, train the model, evaluate the model, optimize the model, and make predictions.\n",
    "\n",
    "--\n",
    "\n",
    "2. What are the different forms of data used in machine learning? Give a specific example for each of them.\n",
    "* \n",
    "    1. Numeric data: Examples include income, age, and credit score. \n",
    "    2. Categorical data: Examples include gender, occupation, and zip code. \n",
    "    3. Time-series data: Examples include stock prices, weather data, and internet traffic. \n",
    "    4. Text data: Examples include emails, product reviews, and articles.\n",
    "    5. Images: Examples include satellite images, medical scans, and facial images.\n",
    "\n",
    "--\n",
    "\n",
    "3. Distinguish:\n",
    "    1. Numeric vs. categorical attributes\n",
    "    2. Feature selection vs. dimensionality reduction\n",
    "* \n",
    "    1. Numeric attributes are numerical values such as age, weight, or height. Categorical attributes are attributes that take on a finite set of values, such as gender or eye color. \n",
    "    2. Feature selection is the process of selecting a subset of features from a larger set of features to use in a model. Dimensionality reduction is the process of reducing the number of features by combining similar features into one feature.\n",
    "\n",
    "--\n",
    "\n",
    "4. Make quick notes on any two of the following:\n",
    "    1. The histogram\n",
    "    2. Use a scatter plot\n",
    "    3. PCA (Personal Computer Aid)\n",
    "* \n",
    "1. The histogram is a graphical representation of data that displays the distribution of the data along the x-axis and the frequency of the data on the y-axis.\n",
    "2. A scatter plot is a type of graph used to show the relationship between two variables. It plots each data point as a dot on a graph, with the x-axis representing one variable and the y-axis representing the other.\n",
    "3. PCA (Principal Component Analysis) is a technique used to reduce the dimensionality of a dataset by transforming the data into a new set of variables, called principal components, that explain the most variance in the data. It is used to identify patterns in the data and to make predictions.\n",
    "\n",
    "--\n",
    "\n",
    "5. Why is it necessary to investigate data? Is there a discrepancy in how qualitative and quantitative data are explored?\n",
    "* Data investigation is necessary to discover patterns, draw conclusions, and inform decision-making. Qualitative and quantitative data are explored differently, with qualitative data often analyzed through open coding and quantitative data often analyzed through statistical methods.\n",
    "\n",
    "--\n",
    "\n",
    "6. What are the various histogram shapes? What exactly are \"bins\"?\n",
    "* The various histogram shapes are positively skewed, negatively skewed, uniform, bimodal, and multimodal. \"Bins\" refer to the intervals of values that the data is broken into when plotting the histogram.\n",
    "\n",
    "--\n",
    "\n",
    "7. How do we deal with data outliers?\n",
    "* Data outliers can be dealt with by identifying and removing outliers, transforming the data, using robust statistics, and applying algorithms that are resilient to outliers. Additionally, data can be grouped into bins to reduce the effect of outliers.\n",
    "\n",
    "--\n",
    "\n",
    "8. What are the various central inclination measures? Why does mean vary too much from median in certain data sets?\n",
    "* The various central inclination measures are mean, median, mode and standard deviation. Mean varies too much from median in certain data sets because mean is affected by outliers, which can make the average drastically different from the median\n",
    "\n",
    "--\n",
    "\n",
    "\n",
    "9. Describe how a scatter plot can be used to investigate bivariate relationships. Is it possible to find outliers using a scatter plot?\n",
    "* A scatter plot can be used to investigate bivariate relationships by seeing if there is a pattern between two variables. It can also be used to identify potential outliers - points that are far away from the general pattern of the data. Outliers are points that are unusually high or low compared to the rest of the data points.\n",
    "\n",
    "--\n",
    "\n",
    "10. Describe how cross-tabs can be used to figure out how two variables are related.\n",
    "* Cross-tabs can be used to figure out how two variables are related by comparing the distributions of the two variables in a table or chart. This can help to identify any correlations between the two variables and provide insight into their relationship."
   ]
  },
  {
   "cell_type": "code",
   "execution_count": null,
   "metadata": {},
   "outputs": [],
   "source": []
  }
 ],
 "metadata": {
  "kernelspec": {
   "display_name": "Python 3",
   "language": "python",
   "name": "python3"
  },
  "language_info": {
   "codemirror_mode": {
    "name": "ipython",
    "version": 3
   },
   "file_extension": ".py",
   "mimetype": "text/x-python",
   "name": "python",
   "nbconvert_exporter": "python",
   "pygments_lexer": "ipython3",
   "version": "3.10.6"
  },
  "orig_nbformat": 4,
  "vscode": {
   "interpreter": {
    "hash": "a42ccb73e7d9bfdf27e036f1d2b8b681e55fc0743cc5586bc2474d4a60f4b886"
   }
  }
 },
 "nbformat": 4,
 "nbformat_minor": 2
}
