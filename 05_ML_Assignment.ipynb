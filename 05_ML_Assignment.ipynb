{
 "cells": [
  {
   "attachments": {},
   "cell_type": "markdown",
   "metadata": {},
   "source": [
    "##### Assignment: 5"
   ]
  },
  {
   "attachments": {},
   "cell_type": "markdown",
   "metadata": {},
   "source": [
    "1. What are the key tasks that machine learning entails? What does data pre-processing imply?\n",
    "* The key tasks that machine learning entails include:\n",
    "    1. Data Collection: Collecting data from sources such as databases, APIs, and web scraping.\n",
    "    2. Data Pre-Processing: This involves cleaning the data, removing irrelevant or incomplete data, and formatting the data into a format that is suitable for machine learning algorithms.\n",
    "    3. Feature Engineering: This involves creating new features or transforming existing features to make them more suitable for machine learning algorithms.\n",
    "    4. Modeling: This involves selecting an appropriate machine learning algorithm and training it on the data.\n",
    "    5. Evaluation: This involves evaluating the performance of the model on test data and making adjustments as necessary.\n",
    "\n",
    "* Data pre-processing implies cleaning and transforming the data into a format that is suitable for machine learning algorithms. This includes removing irrelevant or incomplete data, creating new features or transforming existing features, and formatting the data into a format suitable for machine learning algorithms.\n",
    "\n",
    "--\n",
    "\n",
    "2. Describe quantitative and qualitative data in depth. Make a distinction between the two.\n",
    "* Quantitative data is data that is collected and expressed in numerical form. This can include any data that is measurable and can be used to represent trends or patterns. Qualitative data is data that is collected and expressed in an abstract form, such as words, images, or symbols. This type of data is more descriptive in nature and is used to capture the nuance of a situation or to explain why something happened. The difference between them is quantitative data is numerical, while qualitative data is descriptive.\n",
    "\n",
    "--\n",
    "\n",
    "3. Create a basic data collection that includes some sample records. Have at least one attribute from each of the machine learning data types.\n",
    "* Data Collection:\n",
    "* Sample Records:\n",
    "    * Numeric: \n",
    "       Name: John, Age: 25, Height: 6.1 ft \n",
    "* Categorical: \n",
    "    * Name: Sarah, Gender: Female, Occupation: Teacher \n",
    "* Ordinal: \n",
    "    * Name: Mike, Job Satisfaction: High, Education Level: College Degree \n",
    "* Boolean: \n",
    "    * Name: Tom, Student: Yes, Married: No\n",
    "\n",
    "--\n",
    "\n",
    "4. What are the various causes of machine learning data issues? What are the ramifications?\n",
    "* The causes of machine learning data issues can include insufficient data, biased data, incorrect labels, and outliers. The ramifications can range from inaccurate predictions to poor performance.\n",
    "\n",
    "--\n",
    "\n",
    "5. Demonstrate various approaches to categorical data exploration with appropriate examples.\n",
    "* Exploring categorical data can involve creating frequency distributions, inspecting distributions of means across categories, and visualizing counts and proportions. For example, a frequency distribution of gender can be used to compare the number of males and females in a population.\n",
    "\n",
    "--\n",
    "\n",
    "6. How would the learning activity be affected if certain variables have missing values? Having said that, what can be done about it?\n",
    "* The learning activity would be affected if certain variables have missing values as the machine learning algorithm would not be able to use them to make accurate predictions. To address this problem, missing values can be imputed by replacing them with the mean, median, or mode of the data set or a predictive algorithm can be used to estimate the missing values.\n",
    "\n",
    "--\n",
    "\n",
    "\n",
    "7. Describe the various methods for dealing with missing data values in depth.\n",
    "* The most common methods for dealing with missing data values include deleting, imputing, and inferring from other values. Deletion methods remove incomplete data from the dataset, while imputing methods use techniques such as mean, median, mode, and k-nearest neighbors to replace missing values. Lastly, inference methods use predictive algorithms to fill in missing values.\n",
    "\n",
    "--\n",
    "\n",
    "8. What are the various data pre-processing techniques? Explain dimensionality reduction and function selection in a few words.\n",
    "* Data pre-processing techniques include data cleaning, data transformation, data integration, data reduction, data discretization, and data normalization.\n",
    "* Dimensionality reduction is a technique that reduces the number of random variables (dimensions) in a dataset to a more manageable size. It is used to reduce the complexity of a dataset so that it can be more easily analyzed and interpreted.\n",
    "* Feature selection is a technique used to select a subset of the most relevant features in a dataset for use in a model. It is used to reduce the number of features in a dataset so that the model can focus on the most important ones.\n",
    "\n",
    "--\n",
    "\n",
    "9. \n",
    "    i. What is the IQR? What criteria are used to assess it?\n",
    "    ii. Describe the various components of a box plot in detail? When will the lower whisker surpass the upper whisker in length? How can box plots be used to identify outliers?\n",
    "* \n",
    "1. The IQR (Interquartile Range) is a measure of spread in a data set. It is calculated by subtracting the first quartile (Q1) from the third quartile (Q3). The IQR is used to assess the variability of the data.\n",
    "2. A box plot is a graphical representation of a data set that divides the data into four parts: the lower whisker, the lower quartile (Q1), the median, and the upper quartile (Q3). The lower whisker and the upper whisker are lines extending from the lower quartile and upper quartile, respectively, and they indicate the range of the data. The lower whisker will surpass the upper whisker in length if there are outliers that are smaller than the lower quartile. Box plots can be used to identify outliers, as any point that falls outside of the upper or lower whisker can be considered an outlier.\n",
    "\n",
    "--\n",
    "\n",
    "10. Make brief notes on any two of the following:\n",
    "    1. Data collected at regular intervals\n",
    "    2. The gap between the quartiles\n",
    "    3. Use a cross-tab\n",
    "\n",
    "    1. Make a comparison between:\n",
    "    1. Data with nominal and ordinal values\n",
    "    2. Histogram and box plot\n",
    "    3. The average and median\n",
    "* \n",
    "    1. Data Collected at Regular Intervals: This refers to the collection of data at regular intervals, such as weekly or monthly. This is a useful way to track changes over time and can be used to identify trends or patterns.\n",
    "    2. The Gap Between the Quartiles: The gap between the quartiles is the range of values that lie between the first quartile (Q1) and the third quartile (Q3). This gap measures the spread of the data and can be used to identify outliers.\n",
    "    3. Use a Cross-Tab: A cross-tab is a type of table that is used to compare two or more variables. It is a useful way to visualize the relationship between different variables and can be used to identify trends or patterns."
   ]
  },
  {
   "cell_type": "code",
   "execution_count": null,
   "metadata": {},
   "outputs": [],
   "source": []
  }
 ],
 "metadata": {
  "kernelspec": {
   "display_name": "Python 3",
   "language": "python",
   "name": "python3"
  },
  "language_info": {
   "codemirror_mode": {
    "name": "ipython",
    "version": 3
   },
   "file_extension": ".py",
   "mimetype": "text/x-python",
   "name": "python",
   "nbconvert_exporter": "python",
   "pygments_lexer": "ipython3",
   "version": "3.10.6"
  },
  "orig_nbformat": 4,
  "vscode": {
   "interpreter": {
    "hash": "a42ccb73e7d9bfdf27e036f1d2b8b681e55fc0743cc5586bc2474d4a60f4b886"
   }
  }
 },
 "nbformat": 4,
 "nbformat_minor": 2
}
