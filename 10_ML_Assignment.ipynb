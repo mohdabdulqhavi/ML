{
 "cells": [
  {
   "attachments": {},
   "cell_type": "markdown",
   "metadata": {},
   "source": [
    "##### Assignment: 10"
   ]
  },
  {
   "attachments": {},
   "cell_type": "markdown",
   "metadata": {},
   "source": [
    "1. Define the Bayesian interpretation of probability.\n",
    "* Bayesian interpretation of probability views probability as a measure of degree of belief or confidence in an event. It is subjective and can be updated as new information becomes available. In this interpretation, probability is not a fixed value but a reflection of the state of knowledge and belief at a given time. It is based on Bayes' theorem, which relates prior belief and likelihood of an event to updated belief after new information is obtained.\n",
    "\n",
    "--\n",
    "\n",
    "2. Define probability of a union of two events with equation.\n",
    "* The probability of a union of two events A and B, denoted as P(A∪B), is the sum of their individual probabilities minus the probability of their intersection, P(A∩B). This can be represented by the equation: P(A∪B) = P(A) + P(B) - P(A∩B). This equation is known as the \"addition law of probability\". The union of two events represents the occurrence of either event or both.\n",
    "\n",
    "--\n",
    "\n",
    "3. What is joint probability? What is its formula?\n",
    "* Joint probability is the probability of two events happening at the same time. It is denoted as P(A and B) and is represented by the formula: P(A and B) = P(A|B) * P(B), where P(A|B) is the conditional probability of event A given that event B has occurred. The joint probability gives the likelihood of both events happening together and is important in understanding the relationship between two events.\n",
    "\n",
    "--\n",
    "\n",
    "4. What is chain rule of probability?\n",
    "* The chain rule of probability, also known as the \"multiplication rule of probability\", is used to calculate the probability of multiple events happening in a specific order. It states that the probability of a sequence of events happening is equal to the product of the individual probabilities of each event happening in the given order.\n",
    "\n",
    "--\n",
    "\n",
    "5. What is conditional probability means? What is the formula of it?\n",
    "* Conditional probability is the probability of an event occurring given that another event has already occurred. It is denoted as P(A|B) and can be calculated using the formula: P(A|B) = P(A and B) / P(B), where P(A and B) is the joint probability of events A and B and P(B) is the probability of event B. Conditional probability is used to determine the relationship between two events and can help to make predictions about future events based on past events.\n",
    "\n",
    "--\n",
    "\n",
    "6. What are continuous random variables?\n",
    "* Continuous random variables are random variables that can take on any value within a specified interval. Unlike discrete random variables, which have a finite number of possible values, continuous random variables have an infinite number of possible values. Examples of continuous random variables include height, weight, time, and temperature. To describe the distribution of a continuous random variable, a probability density function (pdf) is used instead of a probability mass function.\n",
    "\n",
    "--\n",
    "\n",
    "7. What are Bernoulli distributions? What is the formula of it?\n",
    "* Bernoulli distribution is a discrete probability distribution for binary outcomes with two possible values, such as success (1) or failure (0). It is used to model events with only two possible outcomes and can be represented mathematically as: P(X=x) = p^x * (1-p)^(1-x), where X is the random variable, x is either 0 or 1, and p is the probability of success. The Bernoulli distribution has a mean of μ = p and a variance of σ^2 = p(1-p). It is the foundation for more complex probability distributions, such as the binomial and Poisson distributions.\n",
    "\n",
    "--\n",
    "\n",
    "8. What is binomial distribution? What is the formula?\n",
    "* Binomial distribution is a discrete probability distribution used to model the number of successes in a fixed number of independent trials, each with the same probability of success. It is represented by the formula: P(X=x) = (n choose x) * p^x * (1-p)^(n-x), where X is the random variable, x is the number of successes, n is the number of trials, p is the probability of success, and (n choose x) is the binomial coefficient. The mean and variance of a binomial distribution are μ = np and σ^2 = np(1-p).\n",
    "\n",
    "--\n",
    "\n",
    "9. What is Poisson distribution? What is the formula?\n",
    "* The Poisson distribution is a discrete probability distribution used to model the number of events occurring in a fixed interval of time or space. It is used for events that occur randomly and independently, with a constant average rate. The formula for Poisson distribution is: P(X=x) = e^(-λ) * λ^x / x!, where X is the random variable, x is the number of events, λ is the average rate, and e is the base of natural logarithm. The mean and variance of a Poisson distribution are both equal to λ.\n",
    "\n",
    "--\n",
    "\n",
    "10. Define covariance.\n",
    "* Covariance is a statistical measure that indicates the extent to which two random variables vary together. It is a measure of the relationship between two variables and is used to assess the degree of linear association between them. Covariance is calculated as the expected value of the product of the deviations of the two variables from their respective means. A positive covariance indicates that the variables increase or decrease together, while a negative covariance indicates that they move in opposite directions. A covariance of zero indicates that there is no linear relationship between the two variables.\n",
    "\n",
    "--\n",
    "\n",
    "11. Define correlation\n",
    "* Correlation is a statistical measure of the relationship between two variables. It quantifies the strength and direction of the relationship between the two variables, with values ranging from -1 (perfect negative correlation) to 1 (perfect positive correlation). A positive correlation means that as one variable increases, the other variable also increases. A negative correlation means that as one variable increases, the other variable decreases. A correlation of 0 means that there is no relationship between the two variables. The correlation is used to identify relationships between variables and can help make predictions.\n",
    "\n",
    "--\n",
    "\n",
    "12. Define sampling with replacement. Give example.\n",
    "* Sampling with replacement refers to a method of selecting items from a population where each item can be selected multiple times. After each selection, the item is replaced back into the population, allowing it to be selected again in the future. An example of sampling with replacement would be randomly selecting marbles from a jar, recording their colors, and putting them back into the jar before each subsequent selection. Sampling with replacement is different from sampling without replacement, where items can only be selected once.\n",
    "\n",
    "--\n",
    "\n",
    "13. What is sampling without replacement? Give example.\n",
    "* Sampling without replacement is a statistical method where each item in a population is only selected once. This means that each item is only included in the sample once and cannot be selected again. An example of sampling without replacement would be drawing 5 balls from a jar containing 10 balls without putting the drawn balls back into the jar. The sample size is fixed and the number of possible samples decreases as the sample size increases. This method is used to model real-life scenarios where items are limited or exhausted after being selected.\n",
    "\n",
    "--\n",
    "\n",
    "14. What is hypothesis? Give example.\n",
    "* A hypothesis is a proposed explanation or assumption made in order to explain an observation or pattern in data. It serves as a starting point for further investigation and testing. For example, a scientist may hypothesize that \"plants grow faster in soil that contains more nutrients\". This hypothesis can be tested through experimentation by comparing the growth of plants in soil with different levels of nutrients. Hypotheses provide a basis for scientific inquiry and are essential for the development of new theories and explanations in various fields."
   ]
  },
  {
   "cell_type": "markdown",
   "metadata": {},
   "source": []
  },
  {
   "cell_type": "markdown",
   "metadata": {},
   "source": []
  }
 ],
 "metadata": {
  "kernelspec": {
   "display_name": "Python 3",
   "language": "python",
   "name": "python3"
  },
  "language_info": {
   "name": "python",
   "version": "3.11.0 (main, Oct 24 2022, 18:26:48) [MSC v.1933 64 bit (AMD64)]"
  },
  "orig_nbformat": 4,
  "vscode": {
   "interpreter": {
    "hash": "37c3a631d8a0638f052fa152808defab85732688815be9183c6328733ab3b70a"
   }
  }
 },
 "nbformat": 4,
 "nbformat_minor": 2
}
