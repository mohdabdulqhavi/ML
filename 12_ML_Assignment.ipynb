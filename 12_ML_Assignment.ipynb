{
 "cells": [
  {
   "attachments": {},
   "cell_type": "markdown",
   "metadata": {},
   "source": [
    "##### Assignment: 12"
   ]
  },
  {
   "attachments": {},
   "cell_type": "markdown",
   "metadata": {},
   "source": [
    "1. What is prior probability? Give an example.\n",
    "* Prior probability is a measure of the belief or assumption of a certain outcome or event before new evidence is taken into consideration. An example would be the prior belief that a coin flip will result in heads or tails with a 50-50 chance before it is actually flipped.\n",
    "\n",
    "--\n",
    "\n",
    "2. What is posterior probability? Give an example.\n",
    "* Posterior probability is the probability of a certain event after taking into account new information. For example, the probability of raining tomorrow is initially 0.4, but after seeing a forecast for heavy rain, the posterior probability becomes 0.9.\n",
    "\n",
    "--\n",
    "\n",
    "3. What is likelihood probability? Give an example.\n",
    "* Likelihood probability is a measure of how probable it is that an event will occur, given certain conditions. For example, the likelihood of it raining tomorrow, given the current forecast, is 70%.\n",
    "\n",
    "--\n",
    "\n",
    "4. What is Naïve Bayes classifier? Why is it named so?\n",
    "* Naive Bayes classifier is a machine learning algorithm that is used for classification tasks. It is based on the Bayes theorem, which calculates the probability of a certain event happening based on prior knowledge of events that might be related to it. The algorithm assumes that the features in a data set are independent of each other, hence the term \"naive.\"\n",
    "\n",
    "--\n",
    "\n",
    "5. What is optimal Bayes classifier?\n",
    "* The optimal Bayes classifier is a machine learning algorithm that makes predictions based on Bayes theorem and maximizes the accuracy of its predictions. It uses prior probabilities and the likelihood of each class to determine the most likely class for a given observation.\n",
    "\n",
    "--\n",
    "\n",
    "6. Write any two features of Bayesian learning methods.\n",
    "* \n",
    "    1. Adaptability: Bayesian learning methods are capable of adapting to new data and adjusting their probability estimates accordingly. This allows for continuous learning and improvement over time.\n",
    "\n",
    "    2. Incorporation of Prior Knowledge: Bayesian learning methods allow for the incorporation of prior knowledge or prior beliefs into the learning process. This allows for more informed predictions and decision-making based on both historical data and prior experiences.\n",
    "\n",
    "--\n",
    "\n",
    "7. Define the concept of consistent learners.\n",
    "* Consistent learners are individuals who display a steady and persistent approach towards learning and acquiring new knowledge and skills. They are characterized by their consistent dedication, focus, and self-discipline, resulting in long-term academic or personal growth.\n",
    "\n",
    "--\n",
    "\n",
    "8. Write any two strengths of Bayes classifier.\n",
    "* \n",
    "    * High accuracy: Bayes classifier is known for its high accuracy in    prediction, making it a reliable tool for real-world applications.\n",
    "\n",
    "    * Fast computation: The Bayes classifier is computationally efficient and fast, allowing it to make predictions quickly and handle large datasets. This makes it ideal for use in real-time applications where quick decisions are needed.\n",
    "\n",
    "9. Write any two weaknesses of Bayes classifier.\n",
    "* \n",
    "    * Data independence: Bayes classifier assumes that each feature in the data is independent of one another, which may not always be the case.\n",
    "    \n",
    "    * Overfitting: The classifier can easily overfit the data if there is a lot of irrelevant or redundant information, leading to poor generalization performance.\n",
    "\n",
    "10. Explain how Naïve Bayes classifier is used for\n",
    "    1. Text classification\n",
    "    2. Spam filtering\n",
    "    3. Market sentiment analysis\n",
    "* \n",
    "    1. Text Classification: Naive Bayes classifier is commonly used for text classification tasks. It involves training the classifier on a large corpus of text data and labeling them as categories such as positive, negative, neutral, etc. During the testing phase, the classifier uses the learned probabilities to classify an unseen document into a specific category. The classifier uses the Bayes theorem to calculate the probability of a document belonging to each category based on the frequency of words in the document and their corresponding categories.\n",
    "\n",
    "    2. Spam Filtering: Naive Bayes classifier is widely used for spam filtering. The classifier is trained on a large dataset of spam and non-spam emails. During the testing phase, the classifier uses the learned probabilities to classify an incoming email as spam or non-spam based on the words used in the email. The classifier considers the frequency of specific words or phrases commonly found in spam emails and the probability of these words or phrases occurring in the email to classify the email as spam or non-spam.\n",
    "\n",
    "    3. Market Sentiment Analysis: Naive Bayes classifier is used for market sentiment analysis to determine the overall positive or negative sentiment of a particular stock or market trend. The classifier is trained on a large dataset of news articles, social media posts, and other relevant information related to the stock or market trend. During the testing phase, the classifier uses the learned probabilities to classify an incoming article or post as positive, negative, or neutral based on the words used in the article or post. The classifier considers the frequency of specific words or phrases commonly used to express positive or negative sentiments and the probability of these words or phrases occurring in the article or post to classify the sentiment."
   ]
  },
  {
   "cell_type": "code",
   "execution_count": null,
   "metadata": {},
   "outputs": [],
   "source": []
  }
 ],
 "metadata": {
  "kernelspec": {
   "display_name": "Python 3",
   "language": "python",
   "name": "python3"
  },
  "language_info": {
   "name": "python",
   "version": "3.11.0 (main, Oct 24 2022, 18:26:48) [MSC v.1933 64 bit (AMD64)]"
  },
  "orig_nbformat": 4,
  "vscode": {
   "interpreter": {
    "hash": "37c3a631d8a0638f052fa152808defab85732688815be9183c6328733ab3b70a"
   }
  }
 },
 "nbformat": 4,
 "nbformat_minor": 2
}
