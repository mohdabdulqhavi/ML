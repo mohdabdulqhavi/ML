{
 "cells": [
  {
   "attachments": {},
   "cell_type": "markdown",
   "metadata": {},
   "source": [
    "##### Assignment: 13"
   ]
  },
  {
   "attachments": {},
   "cell_type": "markdown",
   "metadata": {},
   "source": [
    "1. Provide an example of the concepts of Prior, Posterior, and Likelihood.\n",
    "* \n",
    "    Prior: Suppose a scientist is conducting a study to determine the effect of a certain drug on the blood pressure of a certain population. The scientist has prior knowledge that the drug will generally reduce blood pressure in this population. \n",
    "\n",
    "    Likelihood: The scientist then collects data from a sample of patients, and compares the results of patients who took the drug to those who did not. This comparison gives the scientist an indication of the likelihood that the drug will reduce blood pressure in the population.\n",
    "\n",
    "    Posterior: After analyzing the data, the scientist calculates the posterior probability that the drug will reduce blood pressure in the population. This probability is based on the prior knowledge and the likelihood that the drug will have the desired effect.\n",
    "\n",
    "--\n",
    "\n",
    "2. What role does Bayes&#39; theorem play in the concept learning principle?\n",
    "* Bayes’ theorem is a central element of the concept learning principle. It is used to calculate the probability of a hypothesis being true based on the available evidence. By combining prior knowledge with evidence, Bayes’ theorem can help to refine and update hypotheses. This process helps to reduce the probability of errors in the concept learning process.\n",
    "\n",
    "--\n",
    "\n",
    "3. Offer an example of how the Nave Bayes classifier is used in real life.\n",
    "* Nave Bayes classifier is used in the field of medical diagnosis. For example, medical experts may use a Nave Bayes classifier to diagnose a patient with a particular disease based on the patient's symptoms. The classifier can use data from past cases to make a prediction about the patient's condition. It can also be used to identify risk factors associated with the disease and provide a more accurate diagnosis.\n",
    "\n",
    "--\n",
    "\n",
    "4. Can the Nave Bayes classifier be used on continuous numeric data? If so, how can you go about doing it?\n",
    "* Yes, the Naive Bayes classifier can be used on continuous numeric data. To do so, you need to first convert your data into discrete bins or categories. This is usually done by setting thresholds, or points at which the data is split into two categories. For example, if you have a continuous variable ranging from 0 to 10, you could split the data into two categories by setting the threshold at 5 – anything higher than 5 would be labeled one category and anything lower would be labeled another category. After this process is done, you can then apply the Naive Bayes classifier to your data.\n",
    "\n",
    "--\n",
    "\n",
    "5. What are Bayesian Belief Networks, and how do they work? What are their applications? Are they\n",
    "capable of resolving a wide range of issues?\n",
    "* Bayesian Belief Networks (BBNs) are graphical models that represent the probabilistic relationships between random variables. They are based on Bayes' theorem and use directed acyclic graphs (DAGs) to represent the dependencies between the variables. BBNs are used to infer the likelihood of an event given evidence, and are used in a variety of applications such as data mining, machine learning, decision support systems, and medical diagnosis. BBNs can be used to resolve a wide variety of issues, as they can be applied to any problem that involves uncertainty or probability.\n",
    "\n",
    "--\n",
    "\n",
    "6. Passengers are checked in an airport screening system to see if there is an intruder. Let I be the\n",
    "random variable that indicates whether someone is an intruder I = 1) or not I = 0), and A be the\n",
    "variable that indicates alarm I = 0). If an intruder is detected with probability P(A = 1|I = 1) = 0.98 and a non-intruder is detected with probability P(A = 1|I = 0) = 0.001, an alarm will be triggered,\n",
    "implying the error factor. The likelihood of an intruder in the passenger population is \n",
    "P(I = 1) = 0.00001. What are the chances that an alarm would be triggered when an individual is actually an intruder?\n",
    "* The chances that an alarm would be triggered when an individual is actually an intruder is \n",
    "P(A = 1|I = 1) = 0.98.\n",
    "\n",
    "--\n",
    "\n",
    "7. An antibiotic resistance test (random variable T) has 1% false positives (i.e., 1% of those who are\n",
    "not immune to an antibiotic display a positive result in the test) and 5% false negatives (i.e., 1% of\n",
    "those who are not resistant to an antibiotic show a positive result in the test) (i.e. 5 percent of those actually resistant to an antibiotic test negative). Assume that 2% of those who were screened were antibiotic-resistant. Calculate the likelihood that a person who tests positive is actually immune (random variable D).\n",
    "* \n",
    "\n",
    "--\n",
    "\n",
    "8. In order to prepare for the test, a student knows that there will be one question in the exam that\n",
    "is either form A, B, or C. The chances of getting an A, B, or C on the exam are 30 percent, 20%, and\n",
    "50 percent, respectively. During the planning, the student solved 9 of 10 type A problems, 2 of 10\n",
    "type B problems, and 6 of 10 type C problems.\n",
    "\n",
    "    1. What is the likelihood that the student can solve the exam problem?\n",
    "\n",
    "    2. Given the student&#39;s solution, what is the likelihood that the problem was of form A?\n",
    "\n",
    "9. A bank installs a CCTV system to track and photograph incoming customers. Despite the constant\n",
    "influx of customers, we divide the timeline into 5 minute bins. There may be a customer coming into\n",
    "the bank with a 5% chance in each 5-minute time period, or there may be no customer (again, for\n",
    "simplicity, we assume that either there is 1 customer or none, not the case of multiple customers). If\n",
    "there is a client, the CCTV will detect them with a 99 percent probability. If there is no customer, the camera can take a false photograph with a 10% chance of detecting movement from other objects.\n",
    "\n",
    "    1. How many customers come into the bank on a daily basis (10 hours)?\n",
    "\n",
    "    2. On a daily basis, how many fake photographs (photographs taken when there is no customer) and how many missed photographs (photographs taken when there is a customer) are there?\n",
    "\n",
    "    3. Explain likelihood that there is a customer if there is a photograph?\n",
    "* \n",
    "\n",
    "--\n",
    "\n",
    "10. Create the conditional probability table associated with the node Won Toss in the Bayesian Belief\n",
    "network to represent the conditional independence assumptions of the Nave Bayes classifier for the\n",
    "match winning prediction problem in Section 6.4.4.\n",
    "* \n",
    "\n"
   ]
  },
  {
   "attachments": {},
   "cell_type": "markdown",
   "metadata": {},
   "source": [
    "\n"
   ]
  },
  {
   "cell_type": "code",
   "execution_count": null,
   "metadata": {},
   "outputs": [],
   "source": []
  }
 ],
 "metadata": {
  "kernelspec": {
   "display_name": "Python 3",
   "language": "python",
   "name": "python3"
  },
  "language_info": {
   "name": "python",
   "version": "3.11.0 (main, Oct 24 2022, 18:26:48) [MSC v.1933 64 bit (AMD64)]"
  },
  "orig_nbformat": 4,
  "vscode": {
   "interpreter": {
    "hash": "37c3a631d8a0638f052fa152808defab85732688815be9183c6328733ab3b70a"
   }
  }
 },
 "nbformat": 4,
 "nbformat_minor": 2
}
